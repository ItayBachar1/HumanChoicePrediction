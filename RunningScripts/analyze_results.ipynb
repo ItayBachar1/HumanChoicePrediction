{
 "cells": [
  {
   "cell_type": "code",
   "execution_count": 1,
   "id": "6d796479-916b-464c-9c7b-448306d9e7e9",
   "metadata": {
    "ExecuteTime": {
     "end_time": "2024-09-18T14:18:35.815234Z",
     "start_time": "2024-09-18T14:18:09.622218Z"
    }
   },
   "outputs": [],
   "source": [
    "import pandas as pd \n",
    "import wandb\n",
    "from tqdm import tqdm\n",
    "import requests\n",
    "import os\n",
    "import numpy as np\n",
    "import matplotlib.pyplot as plt\n",
    "import sklearn\n",
    "from sklearn import metrics\n",
    "import matplotlib.pyplot as plt\n",
    "import scipy.stats as stats\n",
    "import matplotlib.colors as mcolors"
   ]
  },
  {
   "cell_type": "code",
   "outputs": [],
   "source": [
    "import pandas as pd \n",
    "import wandb\n",
    "from tqdm import tqdm\n",
    "import requests\n",
    "import os\n",
    "import numpy as np\n",
    "import matplotlib.pyplot as plt\n",
    "import sklearn\n",
    "from sklearn import metrics\n",
    "\n",
    "class wandb_results:\n",
    "    def __init__(self, project_id, wandb_username=\"itaybachartechnion\"): \n",
    "        self.api = wandb.Api(timeout=60)\n",
    "        self.project_id = project_id\n",
    "        self.wandb_username = wandb_username\n",
    "\n",
    "    def get_sweep_results(self, sweep_id, metric=\"accuracy_all\", best_epoch=False, get_servers=False, reset_api=False, read_csv_if_exist=True, save_to_csv=True):\n",
    "        if reset_api:\n",
    "            self.reset_api()\n",
    "\n",
    "        print(f\"Download {sweep_id=} data...\")\n",
    "        runs = self.api.sweep(f\"{self.wandb_username}/{self.project_id}/{sweep_id}\").runs\n",
    "        n_runs = len(runs)\n",
    "        path = f\"sweeps_csvs/{sweep_id}_{n_runs}.csv\"\n",
    "        if read_csv_if_exist and os.path.exists(path):\n",
    "            return pd.read_csv(path, index_col=0)\n",
    "        summary_list, config_list, name_list = [], [], []\n",
    "        for run in tqdm(runs): \n",
    "            summary_list.append(run.summary._json_dict)\n",
    "            config_list.append(\n",
    "                {k: v for k,v in run.config.items()\n",
    "                  if not k.startswith('_')})\n",
    "            name_list.append(run.name)\n",
    "\n",
    "        runs_df = pd.DataFrame({\n",
    "            \"summary\": summary_list,\n",
    "            \"config\": config_list,\n",
    "            \"name\": name_list\n",
    "            })\n",
    "        config_cols = pd.json_normalize(runs_df['config'])\n",
    "        config_cols.columns = [f\"config_{c}\" for c in config_cols.columns]\n",
    "        summary_cols = pd.json_normalize(runs_df['summary'])\n",
    "        runs_df = pd.concat([runs_df, config_cols, summary_cols], axis=1)\n",
    "        runs_df.drop(['config', 'summary'], axis=1, inplace=True)\n",
    "        hpt = [c for c in config_cols.columns if c not in [\"config_seed\", \"config_run_hash\"]]\n",
    "        if save_to_csv: runs_df.to_csv(path)\n",
    "        return runs_df\n",
    "\n",
    "    def get_sweeps_results(self, sweeps, metric=\"accuracy_all\", best_epoch=False, get_servers=False,  read_csv_if_exist=True, save_to_csv=True):\n",
    "        print(\"Total number of sweeps:\", len(sweeps))\n",
    "        j = pd.concat([self.get_sweep_results(sweep, metric=metric, best_epoch=best_epoch,  get_servers=get_servers, save_to_csv=save_to_csv, read_csv_if_exist=read_csv_if_exist) for sweep in sweeps])\n",
    "        j = j.reset_index(drop=True)\n",
    "        return j\n",
    "\n",
    "    def reset_api(self):\n",
    "        self.api = wandb.Api()"
   ],
   "metadata": {
    "collapsed": false,
    "ExecuteTime": {
     "end_time": "2024-09-18T14:18:35.828738Z",
     "start_time": "2024-09-18T14:18:35.817225Z"
    }
   },
   "id": "88578862c7101ce3",
   "execution_count": 2
  },
  {
   "cell_type": "code",
   "execution_count": 3,
   "id": "a9b533fe-a6ba-45c9-8bac-5da5e1414208",
   "metadata": {
    "ExecuteTime": {
     "end_time": "2024-09-18T14:18:35.943295Z",
     "start_time": "2024-09-18T14:18:35.830Z"
    }
   },
   "outputs": [],
   "source": [
    "#from read_wandb import wandb_results\n",
    "api = wandb_results(\"NLP2024_PROJECT_204117071_206948218\", wandb_username=\"itaybachartechnion\")\n",
    "\n",
    "BASE_METRIC = \"accuracy_per_mean_user_and_bot\"\n"
   ]
  },
  {
   "cell_type": "code",
   "execution_count": 4,
   "id": "7be66a73-767b-4b9b-ab1f-9310d9d21fa2",
   "metadata": {
    "ExecuteTime": {
     "end_time": "2024-09-18T14:18:35.957708Z",
     "start_time": "2024-09-18T14:18:35.945674Z"
    }
   },
   "outputs": [],
   "source": [
    "def result_metric(sweeps, group_name, drop_list=[0], drop_HPT=False, metric=BASE_METRIC, epoch=\"best\"):\n",
    "    df = api.get_sweeps_results(sweeps, metric=metric)\n",
    "\n",
    "    config_cols = [c for c in df.columns if\n",
    "                   \"config_\" in c and c != \"config_wandb_run_id\" and c != \"config_online_simulation_size\"]\n",
    "    HPT_cols = [col for col in config_cols if df[col].nunique() > 1]\n",
    "    print(HPT_cols)\n",
    "    if drop_HPT:\n",
    "        df = df.drop([c for c in HPT_cols if not c in [\"config_LLM_SIM_SIZE\", \"config_seed\"]], axis=1)\n",
    "        HPT_cols = [\"config_LLM_SIM_SIZE\", \"config_seed\"]\n",
    "\n",
    "    # dropping all non-numeric columns that are not in the HPT_cols list\n",
    "    drop_names = [c for c in df.columns if\n",
    "                  (c not in HPT_cols) and (c not in [metric, \"epoch\"]) and (df[c].dtype not in [np.number])]\n",
    "    df = df.drop(drop_names, axis=1)\n",
    "\n",
    "    if len(HPT_cols) == 1:  # has only one column of config_seed\n",
    "        # add a dummy column to group by\n",
    "        df[\"dummy\"] = 'dummy'\n",
    "        HPT_cols.append(\"dummy\")\n",
    "\n",
    "    grouped = df.groupby([c for c in HPT_cols if c != \"config_seed\"], dropna=False)\n",
    "    mean_df = grouped.mean()\n",
    "    std_df = grouped.std()\n",
    "    if epoch == \"best\":\n",
    "        best_col = mean_df[\n",
    "            [c for c in mean_df.columns if (metric in c and metric[-4:] == c.split(\"_epoch\")[0][-4:])]].idxmax(axis=1)\n",
    "    else:\n",
    "        best_col = mean_df[[c for c in mean_df.columns if f\"{metric}_epoch{epoch}\" in c]].idxmax(axis=1)\n",
    "\n",
    "    result = grouped.apply(lambda x: x[best_col.loc[x.name]].values)\n",
    "    means = grouped.apply(lambda x: x[best_col.loc[x.name]].mean())\n",
    "    stds = grouped.apply(lambda x: x[best_col.loc[x.name]].std())\n",
    "\n",
    "    df_cols = {'mean': means, 'std': stds, 'values': result.values}\n",
    "    if epoch == \"best\": df_cols['epoch'] = best_col.apply(\n",
    "        lambda x: int(x.split(\"epoch\")[1]) if \"epoch\" in x else \"last\")\n",
    "\n",
    "    df_cols['CI'] = result.apply(lambda x: bootstrap_ci(x))\n",
    "\n",
    "    summary_df = pd.DataFrame(df_cols, index=best_col.index)\n",
    "    for d in drop_list:\n",
    "        if d in summary_df.index:\n",
    "            summary_df = summary_df.drop(d)\n",
    "    if len(summary_df.index.names) == 1:\n",
    "        return summary_df.rename_axis(group_name)\n",
    "    else:\n",
    "        return summary_df\n",
    "\n",
    "\n",
    "def bootstrap_ci(data, n_bootstrap=1000, ci=0.95):\n",
    "    bootstrapped_means = []\n",
    "    for _ in range(n_bootstrap):\n",
    "        sample = np.random.choice(data, size=len(data), replace=True)\n",
    "        bootstrapped_means.append(np.mean(sample))\n",
    "    lower_bound = np.percentile(bootstrapped_means, (1 - ci) / 2 * 100)\n",
    "    upper_bound = np.percentile(bootstrapped_means, (1 + ci) / 2 * 100)\n",
    "    return lower_bound, upper_bound"
   ]
  },
  {
   "cell_type": "markdown",
   "id": "53a0ba0c-108c-43f5-8232-8b548c844b31",
   "metadata": {},
   "source": [
    "# For HyperParameterTuning"
   ]
  },
  {
   "cell_type": "markdown",
   "id": "dbe8fe89-e9e6-45f2-a2c0-e79a80e455ae",
   "metadata": {},
   "source": [
    "For every configuration that you test in the sweep, you will receive in the table the average, standard deviation, all the values obtained for the different seed values, and also the confidence interval within which the result is located at a confidence level of 95%.\n",
    "\n",
    "When epoch=\"best\" is defined, you can check in which epoch the best result is obtained. If epoch=5 is defined, you will receive the result obtained for epoch number 5.\n",
    "\n",
    "You can test multiple sweeps simultaneously by entering them into the list found in the first element of the function result_metric."
   ]
  },
  {
   "cell_type": "code",
   "execution_count": 5,
   "id": "9dd9321f-5c94-4f0c-8052-b50bd8bd3f4e",
   "metadata": {
    "ExecuteTime": {
     "end_time": "2024-09-18T14:18:41.425310Z",
     "start_time": "2024-09-18T14:18:35.959024Z"
    }
   },
   "outputs": [
    {
     "name": "stdout",
     "output_type": "stream",
     "text": [
      "Total number of sweeps: 10\n",
      "Download sweep_id='niqyqyk0' data...\n"
     ]
    },
    {
     "name": "stderr",
     "output_type": "stream",
     "text": [
      "100%|██████████| 5/5 [00:00<00:00, 249.63it/s]\n"
     ]
    },
    {
     "name": "stdout",
     "output_type": "stream",
     "text": [
      "Download sweep_id='2qmjkpp3' data...\n"
     ]
    },
    {
     "name": "stderr",
     "output_type": "stream",
     "text": [
      "100%|██████████| 5/5 [00:00<00:00, 10512.04it/s]\n"
     ]
    },
    {
     "name": "stdout",
     "output_type": "stream",
     "text": [
      "Download sweep_id='v1xel7bz' data...\n"
     ]
    },
    {
     "name": "stderr",
     "output_type": "stream",
     "text": [
      "100%|██████████| 5/5 [00:00<00:00, 22623.00it/s]\n"
     ]
    },
    {
     "name": "stdout",
     "output_type": "stream",
     "text": [
      "Download sweep_id='9i91zst5' data...\n"
     ]
    },
    {
     "name": "stderr",
     "output_type": "stream",
     "text": [
      "100%|██████████| 5/5 [00:00<00:00, 22501.63it/s]\n"
     ]
    },
    {
     "name": "stdout",
     "output_type": "stream",
     "text": [
      "Download sweep_id='aptjjto8' data...\n"
     ]
    },
    {
     "name": "stderr",
     "output_type": "stream",
     "text": [
      "100%|██████████| 5/5 [00:00<00:00, 20950.57it/s]\n"
     ]
    },
    {
     "name": "stdout",
     "output_type": "stream",
     "text": [
      "Download sweep_id='btmsogld' data...\n"
     ]
    },
    {
     "name": "stderr",
     "output_type": "stream",
     "text": [
      "100%|██████████| 5/5 [00:00<00:00, 22052.07it/s]\n"
     ]
    },
    {
     "name": "stdout",
     "output_type": "stream",
     "text": [
      "Download sweep_id='qwxp4apb' data...\n"
     ]
    },
    {
     "name": "stderr",
     "output_type": "stream",
     "text": [
      "100%|██████████| 5/5 [00:00<00:00, 22121.86it/s]\n"
     ]
    },
    {
     "name": "stdout",
     "output_type": "stream",
     "text": [
      "Download sweep_id='mgntfyd4' data...\n"
     ]
    },
    {
     "name": "stderr",
     "output_type": "stream",
     "text": [
      "100%|██████████| 5/5 [00:00<00:00, 21421.37it/s]\n"
     ]
    },
    {
     "name": "stdout",
     "output_type": "stream",
     "text": [
      "Download sweep_id='bzxrjjky' data...\n"
     ]
    },
    {
     "name": "stderr",
     "output_type": "stream",
     "text": [
      "100%|██████████| 5/5 [00:00<00:00, 18859.28it/s]\n"
     ]
    },
    {
     "name": "stdout",
     "output_type": "stream",
     "text": [
      "Download sweep_id='ia9x5fid' data...\n"
     ]
    },
    {
     "name": "stderr",
     "output_type": "stream",
     "text": [
      "100%|██████████| 5/5 [00:00<00:00, 20281.93it/s]\n",
      "/tmp/ipykernel_2536/2749268688.py:14: DeprecationWarning: Converting `np.inexact` or `np.floating` to a dtype is deprecated. The current result is `float64` which is not strictly correct.\n",
      "  (c not in HPT_cols) and (c not in [metric, \"epoch\"]) and (df[c].dtype not in [np.number])]\n"
     ]
    },
    {
     "name": "stdout",
     "output_type": "stream",
     "text": [
      "['config_seed', 'config_basic_nature']\n"
     ]
    },
    {
     "data": {
      "text/plain": "           mean       std                                             values  \\\nfinal                                                                          \n17     0.830482  0.000830  [0.8317539170312893, 0.830325844133542, 0.8296...   \n18     0.835498  0.002733  [0.8399023951337118, 0.8357191856846014, 0.834...   \n19     0.819625  0.002242  [0.818099597103435, 0.8175130535373839, 0.8231...   \n20     0.833695  0.001142  [0.8344789264615482, 0.8319025389410061, 0.833...   \n21     0.834235  0.002338  [0.8351349397559849, 0.8326926176716242, 0.831...   \n22     0.833533  0.002812  [0.8371260525799309, 0.8315670372578251, 0.835...   \n23     0.835359  0.000966  [0.8366165518057681, 0.8354809788151202, 0.834...   \n24     0.827704  0.002751  [0.8240058740449658, 0.8296671219336801, 0.830...   \n25     0.833175  0.004413  [0.835389829651681, 0.8359702350373108, 0.8371...   \n26     0.836165  0.001543  [0.8362130977056259, 0.8380403771822854, 0.834...   \n\n       epoch                                        CI  \nfinal                                                   \n17        16  (0.8298860609984854, 0.8311826878721904)  \n18        14   (0.8337674765960472, 0.837819803253684)  \n19         8  (0.8180531467342076, 0.8215791281383164)  \n20        10  (0.8327578907753063, 0.8344995087496064)  \n21         5  (0.8325515720196843, 0.8359178061791637)  \n22        19   (0.8313666216442528, 0.835735737930108)  \n23        10  (0.8346185660736497, 0.8360893850811669)  \n24        23  (0.8256058166783451, 0.8296222349175042)  \n25        14   (0.829500904406964, 0.8363125218896543)  \n26         8  (0.8349687701375258, 0.8373688865589187)  ",
      "text/html": "<div>\n<style scoped>\n    .dataframe tbody tr th:only-of-type {\n        vertical-align: middle;\n    }\n\n    .dataframe tbody tr th {\n        vertical-align: top;\n    }\n\n    .dataframe thead th {\n        text-align: right;\n    }\n</style>\n<table border=\"1\" class=\"dataframe\">\n  <thead>\n    <tr style=\"text-align: right;\">\n      <th></th>\n      <th>mean</th>\n      <th>std</th>\n      <th>values</th>\n      <th>epoch</th>\n      <th>CI</th>\n    </tr>\n    <tr>\n      <th>final</th>\n      <th></th>\n      <th></th>\n      <th></th>\n      <th></th>\n      <th></th>\n    </tr>\n  </thead>\n  <tbody>\n    <tr>\n      <th>17</th>\n      <td>0.830482</td>\n      <td>0.000830</td>\n      <td>[0.8317539170312893, 0.830325844133542, 0.8296...</td>\n      <td>16</td>\n      <td>(0.8298860609984854, 0.8311826878721904)</td>\n    </tr>\n    <tr>\n      <th>18</th>\n      <td>0.835498</td>\n      <td>0.002733</td>\n      <td>[0.8399023951337118, 0.8357191856846014, 0.834...</td>\n      <td>14</td>\n      <td>(0.8337674765960472, 0.837819803253684)</td>\n    </tr>\n    <tr>\n      <th>19</th>\n      <td>0.819625</td>\n      <td>0.002242</td>\n      <td>[0.818099597103435, 0.8175130535373839, 0.8231...</td>\n      <td>8</td>\n      <td>(0.8180531467342076, 0.8215791281383164)</td>\n    </tr>\n    <tr>\n      <th>20</th>\n      <td>0.833695</td>\n      <td>0.001142</td>\n      <td>[0.8344789264615482, 0.8319025389410061, 0.833...</td>\n      <td>10</td>\n      <td>(0.8327578907753063, 0.8344995087496064)</td>\n    </tr>\n    <tr>\n      <th>21</th>\n      <td>0.834235</td>\n      <td>0.002338</td>\n      <td>[0.8351349397559849, 0.8326926176716242, 0.831...</td>\n      <td>5</td>\n      <td>(0.8325515720196843, 0.8359178061791637)</td>\n    </tr>\n    <tr>\n      <th>22</th>\n      <td>0.833533</td>\n      <td>0.002812</td>\n      <td>[0.8371260525799309, 0.8315670372578251, 0.835...</td>\n      <td>19</td>\n      <td>(0.8313666216442528, 0.835735737930108)</td>\n    </tr>\n    <tr>\n      <th>23</th>\n      <td>0.835359</td>\n      <td>0.000966</td>\n      <td>[0.8366165518057681, 0.8354809788151202, 0.834...</td>\n      <td>10</td>\n      <td>(0.8346185660736497, 0.8360893850811669)</td>\n    </tr>\n    <tr>\n      <th>24</th>\n      <td>0.827704</td>\n      <td>0.002751</td>\n      <td>[0.8240058740449658, 0.8296671219336801, 0.830...</td>\n      <td>23</td>\n      <td>(0.8256058166783451, 0.8296222349175042)</td>\n    </tr>\n    <tr>\n      <th>25</th>\n      <td>0.833175</td>\n      <td>0.004413</td>\n      <td>[0.835389829651681, 0.8359702350373108, 0.8371...</td>\n      <td>14</td>\n      <td>(0.829500904406964, 0.8363125218896543)</td>\n    </tr>\n    <tr>\n      <th>26</th>\n      <td>0.836165</td>\n      <td>0.001543</td>\n      <td>[0.8362130977056259, 0.8380403771822854, 0.834...</td>\n      <td>8</td>\n      <td>(0.8349687701375258, 0.8373688865589187)</td>\n    </tr>\n  </tbody>\n</table>\n</div>"
     },
     "execution_count": 5,
     "metadata": {},
     "output_type": "execute_result"
    }
   ],
   "source": [
    "directory = 'sweeps_csvs'\n",
    "if not os.path.exists(directory):\n",
    "    os.makedirs(directory)\n",
    "sweep_results = result_metric([\"niqyqyk0\", \"2qmjkpp3\", \"v1xel7bz\", \"9i91zst5\", \n",
    "                               \"aptjjto8\", \"btmsogld\", \"qwxp4apb\", \"mgntfyd4\", \"bzxrjjky\", \"ia9x5fid\"], \"final\", drop_HPT=False, epoch=\"best\")\n",
    "sweep_results"
   ]
  },
  {
   "cell_type": "markdown",
   "id": "3b7cf7c5-c884-43e2-9129-47a507f95124",
   "metadata": {},
   "source": [
    "# Result for a specific epoch"
   ]
  },
  {
   "cell_type": "code",
   "execution_count": 6,
   "id": "bfbdd8de-237f-4283-89b4-608c00121df7",
   "metadata": {
    "ExecuteTime": {
     "end_time": "2024-09-18T14:18:41.543173Z",
     "start_time": "2024-09-18T14:18:41.426817Z"
    }
   },
   "outputs": [
    {
     "name": "stdout",
     "output_type": "stream",
     "text": [
      "Total number of sweeps: 1\n",
      "Download sweep_id='2qmjkpp3' data...\n",
      "['config_seed']\n"
     ]
    },
    {
     "name": "stderr",
     "output_type": "stream",
     "text": [
      "/tmp/ipykernel_2536/2749268688.py:14: DeprecationWarning: Converting `np.inexact` or `np.floating` to a dtype is deprecated. The current result is `float64` which is not strictly correct.\n",
      "  (c not in HPT_cols) and (c not in [metric, \"epoch\"]) and (df[c].dtype not in [np.number])]\n"
     ]
    },
    {
     "data": {
      "text/plain": "           mean       std                                             values  \\\nLLMs                                                                           \ndummy  0.834185  0.002353  [0.8370430510024045, 0.833089257416279, 0.8361...   \n\n                                             CI  \nLLMs                                             \ndummy  (0.8324349104956876, 0.8359343554449433)  ",
      "text/html": "<div>\n<style scoped>\n    .dataframe tbody tr th:only-of-type {\n        vertical-align: middle;\n    }\n\n    .dataframe tbody tr th {\n        vertical-align: top;\n    }\n\n    .dataframe thead th {\n        text-align: right;\n    }\n</style>\n<table border=\"1\" class=\"dataframe\">\n  <thead>\n    <tr style=\"text-align: right;\">\n      <th></th>\n      <th>mean</th>\n      <th>std</th>\n      <th>values</th>\n      <th>CI</th>\n    </tr>\n    <tr>\n      <th>LLMs</th>\n      <th></th>\n      <th></th>\n      <th></th>\n      <th></th>\n    </tr>\n  </thead>\n  <tbody>\n    <tr>\n      <th>dummy</th>\n      <td>0.834185</td>\n      <td>0.002353</td>\n      <td>[0.8370430510024045, 0.833089257416279, 0.8361...</td>\n      <td>(0.8324349104956876, 0.8359343554449433)</td>\n    </tr>\n  </tbody>\n</table>\n</div>"
     },
     "execution_count": 6,
     "metadata": {},
     "output_type": "execute_result"
    }
   ],
   "source": [
    "sweep_results = result_metric([\"2qmjkpp3\"], \"LLMs\", drop_HPT=False, epoch=10)\n",
    "sweep_results"
   ]
  },
  {
   "cell_type": "code",
   "execution_count": 6,
   "id": "a198a156-3e53-4ef4-9525-47e8671c7844",
   "metadata": {
    "ExecuteTime": {
     "end_time": "2024-09-18T14:18:41.546839Z",
     "start_time": "2024-09-18T14:18:41.544568Z"
    }
   },
   "outputs": [],
   "source": []
  }
 ],
 "metadata": {
  "kernelspec": {
   "display_name": "Python 3",
   "language": "python",
   "name": "python3"
  },
  "language_info": {
   "codemirror_mode": {
    "name": "ipython",
    "version": 3
   },
   "file_extension": ".py",
   "mimetype": "text/x-python",
   "name": "python",
   "nbconvert_exporter": "python",
   "pygments_lexer": "ipython3",
   "version": "3.8.8"
  }
 },
 "nbformat": 4,
 "nbformat_minor": 5
}
